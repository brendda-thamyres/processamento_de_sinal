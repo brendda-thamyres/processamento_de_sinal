{
 "cells": [
  {
   "cell_type": "markdown",
   "id": "db9173ef",
   "metadata": {},
   "source": [
    "# Example notebook: waveform plotting and annotation\n",
    "This example notebook uses `participants.tsv` and `measurements_oscillometric.tsv` in the `samples` data directory, and the raw waveform data stored in the `measurements_oscillometric` subdirectory."
   ]
  },
  {
   "cell_type": "code",
   "execution_count": null,
   "id": "ba6950d8",
   "metadata": {},
   "outputs": [],
   "source": [
    "# Imports.\n",
    "import os.path\n",
    "\n",
    "import matplotlib.pyplot as plt\n",
    "import numpy as np\n",
    "import pandas as pd\n",
    "from scipy import signal"
   ]
  },
  {
   "cell_type": "code",
   "execution_count": null,
   "id": "fb4824ee",
   "metadata": {},
   "outputs": [],
   "source": [
    "# Location of 'sample' data directory.\n",
    "DATA_DIR=os.path.join('..', 'sample')"
   ]
  },
  {
   "cell_type": "code",
   "execution_count": null,
   "id": "9d60b7c3",
   "metadata": {},
   "outputs": [],
   "source": [
    "# Additional constants/parameters.\n",
    "\n",
    "# Define an offset into the collection of participants.\n",
    "PID_INDEX = 3\n",
    "\n",
    "# Define an offset into the collection of measurements.\n",
    "MEAS_INDEX = 2\n",
    "\n",
    "# Define the sampling rate for the waveform data (see README.pdf for detail).\n",
    "FS = 500"
   ]
  },
  {
   "cell_type": "code",
   "execution_count": null,
   "id": "a8cc1924",
   "metadata": {},
   "outputs": [],
   "source": [
    "# Load participants.tsv and measurements.tsv dataframes.\n",
    "ppt_df = pd.read_csv(os.path.join(DATA_DIR, 'participants.tsv'), delimiter='\\t')\n",
    "meas_df = pd.read_csv(os.path.join(DATA_DIR, 'measurements_oscillometric.tsv'), delimiter='\\t')"
   ]
  },
  {
   "cell_type": "code",
   "execution_count": null,
   "id": "82a4cdcf",
   "metadata": {},
   "outputs": [],
   "source": [
    "# Get a view of the participant's measurement metadata.\n",
    "ppt_meas_df = meas_df.loc[meas_df.pid==ppt_df.pid[PID_INDEX]]"
   ]
  },
  {
   "cell_type": "code",
   "execution_count": null,
   "id": "470ef5d7",
   "metadata": {},
   "outputs": [],
   "source": [
    "# Get metadata for a specific measurement.\n",
    "meas_series = ppt_meas_df.iloc[MEAS_INDEX]\n",
    "meas_series"
   ]
  },
  {
   "cell_type": "code",
   "execution_count": null,
   "id": "c5b48d9a",
   "metadata": {},
   "outputs": [],
   "source": [
    "# Load the raw waveform data for the measurement of interest.\n",
    "waveform_df = pd.read_csv(os.path.join(DATA_DIR, meas_series.waveform_file_path), delimiter='\\t')"
   ]
  },
  {
   "cell_type": "code",
   "execution_count": null,
   "id": "6d3eee03",
   "metadata": {},
   "outputs": [],
   "source": [
    "# Define ad hoc bandpass filtering function.\n",
    "def _bandpass_filter(data: np.ndarray, hp: float, lp: float, fs: float = FS) -> np.ndarray:\n",
    "    order = 4\n",
    "    b, a = signal.butter(order, (hp, lp), btype='bandpass', fs=fs)\n",
    "    return signal.lfilter(b, a, data-data[0])"
   ]
  },
  {
   "cell_type": "code",
   "execution_count": null,
   "id": "c99c09ea",
   "metadata": {},
   "outputs": [],
   "source": [
    "# Plot ECG, pressure, and optical waveforms. Note that ECG waveform will be inverted or not depending on\n",
    "# electrode placement.\n",
    "plt.subplot(3,1,1)\n",
    "plt.plot(waveform_df.t, _bandpass_filter(waveform_df.ekg.to_numpy(), 0.5, 20))\n",
    "plt.xlim(0,10)\n",
    "plt.title(f'{meas_series.measurement} for subject {meas_series.pid} (bp={meas_series.sbp}/{meas_series.dbp})')\n",
    "plt.ylabel('ECG (mV)')\n",
    "\n",
    "plt.subplot(3,1,2)\n",
    "plt.plot(waveform_df.t, _bandpass_filter(waveform_df.pressure.to_numpy(), 0.25, 50))\n",
    "plt.xlim(0,10)\n",
    "plt.ylabel('Tonometry (mBAR)')\n",
    "\n",
    "plt.subplot(3,1,3)\n",
    "plt.plot(waveform_df.t, _bandpass_filter(waveform_df.optical.to_numpy(), 0.25, 50))\n",
    "plt.xlim(0,10)\n",
    "plt.ylabel('PPG (AU)')    "
   ]
  }
 ],
 "metadata": {
  "kernelspec": {
   "display_name": "Python 3 (ipykernel)",
   "language": "python",
   "name": "python3"
  },
  "language_info": {
   "codemirror_mode": {
    "name": "ipython",
    "version": 3
   },
   "file_extension": ".py",
   "mimetype": "text/x-python",
   "name": "python",
   "nbconvert_exporter": "python",
   "pygments_lexer": "ipython3",
   "version": "3.8.13"
  }
 },
 "nbformat": 4,
 "nbformat_minor": 5
}
