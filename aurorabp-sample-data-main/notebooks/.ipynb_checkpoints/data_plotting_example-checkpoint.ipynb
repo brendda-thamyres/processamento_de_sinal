{
 "cells": [
  {
   "cell_type": "markdown",
   "metadata": {},
   "source": [
    "# Example notebook: data observation and plotting\n",
    "This example notebook uses both the `features.tsv` and `participants.tsv` files in the `sample` data directory."
   ]
  },
  {
   "cell_type": "code",
   "execution_count": null,
   "metadata": {},
   "outputs": [],
   "source": [
    "# Imports.\n",
    "import os.path\n",
    "\n",
    "import matplotlib.pyplot as plt\n",
    "import pandas as pd\n",
    "import seaborn as sns"
   ]
  },
  {
   "cell_type": "code",
   "execution_count": null,
   "metadata": {},
   "outputs": [],
   "source": [
    "# Location of 'sample' data directory.\n",
    "DATA_DIR=os.path.join('..', 'sample')"
   ]
  },
  {
   "cell_type": "code",
   "execution_count": null,
   "metadata": {},
   "outputs": [],
   "source": [
    "# Load as dataframes, and join features/participants files on pid field.\n",
    "ppt_df = pd.read_csv(os.path.join(DATA_DIR, 'participants.tsv'), delimiter='\\t')\n",
    "feat_df = pd.read_csv(os.path.join(DATA_DIR, 'features.tsv'), delimiter='\\t')\n",
    "comb_df = ppt_df.merge(feat_df, how='left', left_on='pid', right_on='pid')\n",
    "\n",
    "# View combined dataframe.\n",
    "comb_df"
   ]
  },
  {
   "cell_type": "code",
   "execution_count": null,
   "metadata": {},
   "outputs": [],
   "source": [
    "# Bin age into 10-year intervals, and plot discretized histogram.\n",
    "comb_df['age_bin'] = pd.cut(comb_df['age'], bins=[20, 30, 40, 50, 60, 70, 80])\n",
    "sns.countplot(x='age_bin', data=comb_df)\n",
    "plt.xlabel('Age (years)')"
   ]
  },
  {
   "cell_type": "code",
   "execution_count": null,
   "metadata": {},
   "outputs": [],
   "source": [
    "# Plot resting SBP vs. age bin.\n",
    "sns.boxplot(x='age_bin', y='baseline_sbp', data=comb_df)\n",
    "plt.xlabel('Age (years)')\n",
    "plt.ylabel('Resting SBP (mmHg)')"
   ]
  },
  {
   "cell_type": "code",
   "execution_count": null,
   "metadata": {},
   "outputs": [],
   "source": [
    "# Change in rPAT vs. change in SBP stratified by age. \n",
    "sns.jointplot(x='delta_sbp', y='delta_rpat_pressure', hue='age_bin', data=comb_df)"
   ]
  }
 ],
 "metadata": {
  "interpreter": {
   "hash": "b18b75db36c2d0d85abbd33565ed2654ca27e8bd1e1e0321301bf8151a8b2927"
  },
  "kernelspec": {
   "display_name": "Python 3 (ipykernel)",
   "language": "python",
   "name": "python3"
  },
  "language_info": {
   "codemirror_mode": {
    "name": "ipython",
    "version": 3
   },
   "file_extension": ".py",
   "mimetype": "text/x-python",
   "name": "python",
   "nbconvert_exporter": "python",
   "pygments_lexer": "ipython3",
   "version": "3.8.13"
  }
 },
 "nbformat": 4,
 "nbformat_minor": 2
}
